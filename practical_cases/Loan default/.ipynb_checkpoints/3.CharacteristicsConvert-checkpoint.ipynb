{
 "cells": [
  {
   "cell_type": "code",
   "execution_count": 2,
   "metadata": {},
   "outputs": [],
   "source": [
    "import datetime\n",
    "import warnings\n",
    "warnings.filterwarnings('ignore')\n",
    "\n",
    "import re\n",
    "import numpy as np\n",
    "import pandas as pd\n",
    "import matplotlib.pyplot as plt\n",
    "import seaborn as sns\n",
    "import missingno as msno  # 用于可视化缺失值分布\n",
    "import scipy.stats as st\n",
    "\n",
    "#调用matplotlib.pyplot的绘图函数plot()进行绘图的时候，或者生成一个figure画布的时候，可以直接在python console里面生成图像\n",
    "%matplotlib inline\n",
    "\n",
    "# 数据加载\n",
    "data_train = pd.read_csv('data/train.csv')\n",
    "data_test = pd.read_csv('data/testA.csv')"
   ]
  },
  {
   "cell_type": "code",
   "execution_count": 11,
   "metadata": {},
   "outputs": [],
   "source": [
    "# 区分数值型特征和对象特征\n",
    "numerical_fea = list(data_train.select_dtypes(exclude=['object']).columns)\n",
    "category_fea = list(filter(lambda x:x not in numerical_fea,list(data_train.columns)))\n",
    "label = 'isDefault' \n",
    "numerical_fea.remove(label)"
   ]
  },
  {
   "cell_type": "markdown",
   "metadata": {
    "collapsed": true
   },
   "source": [
    "# 缺失值处理"
   ]
  },
  {
   "cell_type": "markdown",
   "metadata": {},
   "source": [
    "+ 缺失值过多，可以删除该列；数据集较多，有很少的缺失值，可以删除掉缺失值的行\n",
    "+ 不处理，有些模型（如xgboost）有处理缺失值机制\n",
    "+ 如果属性对学习不是特别重要，可以进行插值补全（均值，中位数，众数，建模预测，多重插补等）"
   ]
  },
  {
   "cell_type": "code",
   "execution_count": 12,
   "metadata": {},
   "outputs": [
    {
     "data": {
      "text/plain": [
       "id                        0\n",
       "loanAmnt                  0\n",
       "term                      0\n",
       "interestRate              0\n",
       "installment               0\n",
       "grade                     0\n",
       "subGrade                  0\n",
       "employmentTitle           0\n",
       "employmentLength      46799\n",
       "homeOwnership             0\n",
       "annualIncome              0\n",
       "verificationStatus        0\n",
       "issueDate                 0\n",
       "isDefault                 0\n",
       "purpose                   0\n",
       "postCode                  0\n",
       "regionCode                0\n",
       "dti                       0\n",
       "delinquency_2years        0\n",
       "ficoRangeLow              0\n",
       "ficoRangeHigh             0\n",
       "openAcc                   0\n",
       "pubRec                    0\n",
       "pubRecBankruptcies        0\n",
       "revolBal                  0\n",
       "revolUtil                 0\n",
       "totalAcc                  0\n",
       "initialListStatus         0\n",
       "applicationType           0\n",
       "earliesCreditLine         0\n",
       "title                     0\n",
       "policyCode                0\n",
       "n0                        0\n",
       "n1                        0\n",
       "n2                        0\n",
       "n3                        0\n",
       "n4                        0\n",
       "n5                        0\n",
       "n6                        0\n",
       "n7                        0\n",
       "n8                        0\n",
       "n9                        0\n",
       "n10                       0\n",
       "n11                       0\n",
       "n12                       0\n",
       "n13                       0\n",
       "n14                       0\n",
       "dtype: int64"
      ]
     },
     "execution_count": 12,
     "metadata": {},
     "output_type": "execute_result"
    }
   ],
   "source": [
    "#查看缺失值情况 \n",
    "data_train.isnull().sum()"
   ]
  },
  {
   "cell_type": "code",
   "execution_count": 1,
   "metadata": {},
   "outputs": [],
   "source": [
    "# data_train.fillna(data_train.mean(),inplace=True) # 填充均值\n",
    "# data_train.fillna(data_train.median(),inplace=True) # 填充中位数\n",
    "# data_train.fillna(data_train.mode(),inplace=True) # 填充众数"
   ]
  },
  {
   "cell_type": "code",
   "execution_count": 13,
   "metadata": {},
   "outputs": [],
   "source": [
    "# 按照平均数填充数值型特征 \n",
    "data_train[numerical_fea] = data_train[numerical_fea].fillna(data_train[numerical_fea].median())\n",
    "\n",
    "#按照众数填充类别型特征 \n",
    "data_train[category_fea] = data_train[category_fea].fillna(data_train[category_fea].mode())"
   ]
  },
  {
   "cell_type": "code",
   "execution_count": 14,
   "metadata": {},
   "outputs": [
    {
     "data": {
      "text/plain": [
       "id                        0\n",
       "loanAmnt                  0\n",
       "term                      0\n",
       "interestRate              0\n",
       "installment               0\n",
       "grade                     0\n",
       "subGrade                  0\n",
       "employmentTitle           0\n",
       "employmentLength      46799\n",
       "homeOwnership             0\n",
       "annualIncome              0\n",
       "verificationStatus        0\n",
       "issueDate                 0\n",
       "isDefault                 0\n",
       "purpose                   0\n",
       "postCode                  0\n",
       "regionCode                0\n",
       "dti                       0\n",
       "delinquency_2years        0\n",
       "ficoRangeLow              0\n",
       "ficoRangeHigh             0\n",
       "openAcc                   0\n",
       "pubRec                    0\n",
       "pubRecBankruptcies        0\n",
       "revolBal                  0\n",
       "revolUtil                 0\n",
       "totalAcc                  0\n",
       "initialListStatus         0\n",
       "applicationType           0\n",
       "earliesCreditLine         0\n",
       "title                     0\n",
       "policyCode                0\n",
       "n0                        0\n",
       "n1                        0\n",
       "n2                        0\n",
       "n3                        0\n",
       "n4                        0\n",
       "n5                        0\n",
       "n6                        0\n",
       "n7                        0\n",
       "n8                        0\n",
       "n9                        0\n",
       "n10                       0\n",
       "n11                       0\n",
       "n12                       0\n",
       "n13                       0\n",
       "n14                       0\n",
       "dtype: int64"
      ]
     },
     "execution_count": 14,
     "metadata": {},
     "output_type": "execute_result"
    }
   ],
   "source": [
    "data_train.isnull().sum()"
   ]
  },
  {
   "cell_type": "code",
   "execution_count": null,
   "metadata": {},
   "outputs": [],
   "source": [
    "\"\"\"KNN建模\"\"\"\n",
    "\"\"\"填充KNN数据：先利用knn计算临近的k个数据，然后填充他们的均值\"\"\"\n",
    "#from fancyimpute import KNN\n",
    "#data_train = pd.DataFrame(KNN(k=6).fit_transform(data_train), columns=features)"
   ]
  },
  {
   "cell_type": "code",
   "execution_count": null,
   "metadata": {},
   "outputs": [],
   "source": [
    "\"\"\"插值法：用插值法拟合出缺失的数据，然后进行填充。\"\"\"\n",
    "# features = data_train.columns\n",
    "# # print(features)\n",
    "# for f in features: \n",
    "#     data_train[f] = data_train[f].interpolate()"
   ]
  },
  {
   "cell_type": "markdown",
   "metadata": {},
   "source": [
    "+ 建模预测 随机森林\n",
    "\n",
    "一般情况下，会使用数据完整的条目作为模型的训练集，以此来预测缺失值。对于当前的这个数据，可以使用随机森林来预测也可以使用线性回归预测。这里使用随机森林预测模型，选取数据集中的数值属性作为特征（因为sklearn的模型只能处理数值属性，所以这里先仅选取数值特征，但在实际的应用中需要将非数值特征转换为数值特征）"
   ]
  },
  {
   "cell_type": "code",
   "execution_count": null,
   "metadata": {},
   "outputs": [],
   "source": [
    "# from sklearn.ensemble import RandomForestRegressor\n",
    "\n",
    "# #choose training data to predict age\n",
    "# age_df = data_train[['Age','Survived','Fare', 'Parch', 'SibSp', 'Pclass']]\n",
    "# age_df_notnull = age_df.loc[(data_train['Age'].notnull())]\n",
    "# age_df_isnull = age_df.loc[(data_train['Age'].isnull())]\n",
    "# X = age_df_notnull.values[:,1:]\n",
    "# Y = age_df_notnull.values[:,0]\n",
    "\n",
    "# # use RandomForestRegression to train data\n",
    "# RFR = RandomForestRegressor(n_estimators=1000, n_jobs=-1)\n",
    "# RFR.fit(X,Y)\n",
    "# predictAges = RFR.predict(age_df_isnull.values[:,1:])\n",
    "# data_train.loc[train_data['Age'].isnull(), ['Age']]= predictAges"
   ]
  }
 ],
 "metadata": {
  "kernelspec": {
   "display_name": "Python 3",
   "language": "python",
   "name": "python3"
  },
  "language_info": {
   "codemirror_mode": {
    "name": "ipython",
    "version": 3
   },
   "file_extension": ".py",
   "mimetype": "text/x-python",
   "name": "python",
   "nbconvert_exporter": "python",
   "pygments_lexer": "ipython3",
   "version": "3.7.7"
  }
 },
 "nbformat": 4,
 "nbformat_minor": 1
}
