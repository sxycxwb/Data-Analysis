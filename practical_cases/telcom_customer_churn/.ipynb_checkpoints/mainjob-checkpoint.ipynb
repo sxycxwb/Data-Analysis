{
 "cells": [
  {
   "cell_type": "markdown",
   "metadata": {},
   "source": [
    "本文将从以下方面进行分析： 1.背景 2.提出问题 3.理解数据 4.数据清洗 5.可视化分析 6.用户流失预测 7.结论和建议"
   ]
  },
  {
   "cell_type": "markdown",
   "metadata": {},
   "source": [
    "## 背景"
   ]
  },
  {
   "cell_type": "markdown",
   "metadata": {},
   "source": [
    "关于用户留存有这样一个观点，如果将用户流失率降低5%，公司利润将提升25%-85%。如今高居不下的获客成本让电信运营商遭遇“天花板”，甚至陷入获客难的窘境。随着市场饱和度上升，电信运营商亟待解决增加用户黏性，延长用户生命周期的问题。因此，电信用户流失分析与预测至关重要。 数据集来自kesci中的“电信运营商客户数据集”"
   ]
  },
  {
   "cell_type": "markdown",
   "metadata": {},
   "source": [
    "</br>"
   ]
  },
  {
   "cell_type": "markdown",
   "metadata": {},
   "source": [
    "## 提出问题"
   ]
  },
  {
   "cell_type": "markdown",
   "metadata": {},
   "source": [
    "1.分析用户特征与流失的关系。 2.从整体情况看，流失用户的普遍具有哪些特征？ 3.尝试找到合适的模型预测流失用户。 4.针对性给出增加用户黏性、预防流失的建议。"
   ]
  },
  {
   "cell_type": "markdown",
   "metadata": {},
   "source": [
    "<br>"
   ]
  },
  {
   "cell_type": "markdown",
   "metadata": {},
   "source": [
    "## 理解数据"
   ]
  },
  {
   "cell_type": "markdown",
   "metadata": {},
   "source": [
    "根据介绍，该数据集有21个字段，共7043条记录。每条记录包含了唯一客户的特征。 我们目标就是发现前20列特征和最后一列客户是否流失特征之间的关系。"
   ]
  },
  {
   "cell_type": "markdown",
   "metadata": {},
   "source": [
    "<br>"
   ]
  },
  {
   "cell_type": "markdown",
   "metadata": {},
   "source": [
    "## 数据清洗"
   ]
  },
  {
   "cell_type": "markdown",
   "metadata": {},
   "source": [
    "数据清洗的“完全合一”规则：\n",
    "\n",
    "    1.完整性：单条数据是否存在空值，统计的字段是否完善。\n",
    "    2.全面性：观察某一列的全部数值，通过常识来判断该列是否有问题，比如：数据定义、单位标识、数据本身。\n",
    "    3.合法性：数据的类型、内容、大小的合法性。比如数据中是否存在非ASCII字符，性别存在了未知，年龄超过了150等。\n",
    "    4.唯一性：数据是否存在重复记录，因为数据通常来自不同渠道的汇总，重复的情况是常见的。行数据、列数据都需要是唯一的。"
   ]
  },
  {
   "cell_type": "markdown",
   "metadata": {},
   "source": [
    "导入工具包"
   ]
  },
  {
   "cell_type": "code",
   "execution_count": 1,
   "metadata": {},
   "outputs": [],
   "source": [
    "import pandas as pd\n",
    "import numpy as np\n",
    "import matplotlib.pyplot as plt\n",
    "import seaborn as sns"
   ]
  },
  {
   "cell_type": "markdown",
   "metadata": {},
   "source": [
    "导入数据集"
   ]
  },
  {
   "cell_type": "code",
   "execution_count": 2,
   "metadata": {},
   "outputs": [],
   "source": [
    "customerDF = pd.read_csv('data/WA_Fn-UseC_-Telco-Customer-Churn.csv')"
   ]
  },
  {
   "cell_type": "markdown",
   "metadata": {},
   "source": [
    "### 数据探查"
   ]
  },
  {
   "cell_type": "code",
   "execution_count": 3,
   "metadata": {},
   "outputs": [
    {
     "data": {
      "text/html": [
       "<div>\n",
       "<style scoped>\n",
       "    .dataframe tbody tr th:only-of-type {\n",
       "        vertical-align: middle;\n",
       "    }\n",
       "\n",
       "    .dataframe tbody tr th {\n",
       "        vertical-align: top;\n",
       "    }\n",
       "\n",
       "    .dataframe thead th {\n",
       "        text-align: right;\n",
       "    }\n",
       "</style>\n",
       "<table border=\"1\" class=\"dataframe\">\n",
       "  <thead>\n",
       "    <tr style=\"text-align: right;\">\n",
       "      <th></th>\n",
       "      <th>customerID</th>\n",
       "      <th>gender</th>\n",
       "      <th>SeniorCitizen</th>\n",
       "      <th>Partner</th>\n",
       "      <th>Dependents</th>\n",
       "      <th>tenure</th>\n",
       "      <th>PhoneService</th>\n",
       "      <th>MultipleLines</th>\n",
       "      <th>InternetService</th>\n",
       "      <th>OnlineSecurity</th>\n",
       "      <th>OnlineBackup</th>\n",
       "      <th>DeviceProtection</th>\n",
       "      <th>TechSupport</th>\n",
       "      <th>StreamingTV</th>\n",
       "      <th>StreamingMovies</th>\n",
       "      <th>Contract</th>\n",
       "      <th>PaperlessBilling</th>\n",
       "      <th>PaymentMethod</th>\n",
       "      <th>MonthlyCharges</th>\n",
       "      <th>TotalCharges</th>\n",
       "      <th>Churn</th>\n",
       "    </tr>\n",
       "  </thead>\n",
       "  <tbody>\n",
       "    <tr>\n",
       "      <th>0</th>\n",
       "      <td>7590-VHVEG</td>\n",
       "      <td>Female</td>\n",
       "      <td>0</td>\n",
       "      <td>Yes</td>\n",
       "      <td>No</td>\n",
       "      <td>1</td>\n",
       "      <td>No</td>\n",
       "      <td>No phone service</td>\n",
       "      <td>DSL</td>\n",
       "      <td>No</td>\n",
       "      <td>Yes</td>\n",
       "      <td>No</td>\n",
       "      <td>No</td>\n",
       "      <td>No</td>\n",
       "      <td>No</td>\n",
       "      <td>Month-to-month</td>\n",
       "      <td>Yes</td>\n",
       "      <td>Electronic check</td>\n",
       "      <td>29.85</td>\n",
       "      <td>29.85</td>\n",
       "      <td>No</td>\n",
       "    </tr>\n",
       "    <tr>\n",
       "      <th>1</th>\n",
       "      <td>5575-GNVDE</td>\n",
       "      <td>Male</td>\n",
       "      <td>0</td>\n",
       "      <td>No</td>\n",
       "      <td>No</td>\n",
       "      <td>34</td>\n",
       "      <td>Yes</td>\n",
       "      <td>No</td>\n",
       "      <td>DSL</td>\n",
       "      <td>Yes</td>\n",
       "      <td>No</td>\n",
       "      <td>Yes</td>\n",
       "      <td>No</td>\n",
       "      <td>No</td>\n",
       "      <td>No</td>\n",
       "      <td>One year</td>\n",
       "      <td>No</td>\n",
       "      <td>Mailed check</td>\n",
       "      <td>56.95</td>\n",
       "      <td>1889.5</td>\n",
       "      <td>No</td>\n",
       "    </tr>\n",
       "    <tr>\n",
       "      <th>2</th>\n",
       "      <td>3668-QPYBK</td>\n",
       "      <td>Male</td>\n",
       "      <td>0</td>\n",
       "      <td>No</td>\n",
       "      <td>No</td>\n",
       "      <td>2</td>\n",
       "      <td>Yes</td>\n",
       "      <td>No</td>\n",
       "      <td>DSL</td>\n",
       "      <td>Yes</td>\n",
       "      <td>Yes</td>\n",
       "      <td>No</td>\n",
       "      <td>No</td>\n",
       "      <td>No</td>\n",
       "      <td>No</td>\n",
       "      <td>Month-to-month</td>\n",
       "      <td>Yes</td>\n",
       "      <td>Mailed check</td>\n",
       "      <td>53.85</td>\n",
       "      <td>108.15</td>\n",
       "      <td>Yes</td>\n",
       "    </tr>\n",
       "    <tr>\n",
       "      <th>3</th>\n",
       "      <td>7795-CFOCW</td>\n",
       "      <td>Male</td>\n",
       "      <td>0</td>\n",
       "      <td>No</td>\n",
       "      <td>No</td>\n",
       "      <td>45</td>\n",
       "      <td>No</td>\n",
       "      <td>No phone service</td>\n",
       "      <td>DSL</td>\n",
       "      <td>Yes</td>\n",
       "      <td>No</td>\n",
       "      <td>Yes</td>\n",
       "      <td>Yes</td>\n",
       "      <td>No</td>\n",
       "      <td>No</td>\n",
       "      <td>One year</td>\n",
       "      <td>No</td>\n",
       "      <td>Bank transfer (automatic)</td>\n",
       "      <td>42.30</td>\n",
       "      <td>1840.75</td>\n",
       "      <td>No</td>\n",
       "    </tr>\n",
       "    <tr>\n",
       "      <th>4</th>\n",
       "      <td>9237-HQITU</td>\n",
       "      <td>Female</td>\n",
       "      <td>0</td>\n",
       "      <td>No</td>\n",
       "      <td>No</td>\n",
       "      <td>2</td>\n",
       "      <td>Yes</td>\n",
       "      <td>No</td>\n",
       "      <td>Fiber optic</td>\n",
       "      <td>No</td>\n",
       "      <td>No</td>\n",
       "      <td>No</td>\n",
       "      <td>No</td>\n",
       "      <td>No</td>\n",
       "      <td>No</td>\n",
       "      <td>Month-to-month</td>\n",
       "      <td>Yes</td>\n",
       "      <td>Electronic check</td>\n",
       "      <td>70.70</td>\n",
       "      <td>151.65</td>\n",
       "      <td>Yes</td>\n",
       "    </tr>\n",
       "    <tr>\n",
       "      <th>5</th>\n",
       "      <td>9305-CDSKC</td>\n",
       "      <td>Female</td>\n",
       "      <td>0</td>\n",
       "      <td>No</td>\n",
       "      <td>No</td>\n",
       "      <td>8</td>\n",
       "      <td>Yes</td>\n",
       "      <td>Yes</td>\n",
       "      <td>Fiber optic</td>\n",
       "      <td>No</td>\n",
       "      <td>No</td>\n",
       "      <td>Yes</td>\n",
       "      <td>No</td>\n",
       "      <td>Yes</td>\n",
       "      <td>Yes</td>\n",
       "      <td>Month-to-month</td>\n",
       "      <td>Yes</td>\n",
       "      <td>Electronic check</td>\n",
       "      <td>99.65</td>\n",
       "      <td>820.5</td>\n",
       "      <td>Yes</td>\n",
       "    </tr>\n",
       "    <tr>\n",
       "      <th>6</th>\n",
       "      <td>1452-KIOVK</td>\n",
       "      <td>Male</td>\n",
       "      <td>0</td>\n",
       "      <td>No</td>\n",
       "      <td>Yes</td>\n",
       "      <td>22</td>\n",
       "      <td>Yes</td>\n",
       "      <td>Yes</td>\n",
       "      <td>Fiber optic</td>\n",
       "      <td>No</td>\n",
       "      <td>Yes</td>\n",
       "      <td>No</td>\n",
       "      <td>No</td>\n",
       "      <td>Yes</td>\n",
       "      <td>No</td>\n",
       "      <td>Month-to-month</td>\n",
       "      <td>Yes</td>\n",
       "      <td>Credit card (automatic)</td>\n",
       "      <td>89.10</td>\n",
       "      <td>1949.4</td>\n",
       "      <td>No</td>\n",
       "    </tr>\n",
       "    <tr>\n",
       "      <th>7</th>\n",
       "      <td>6713-OKOMC</td>\n",
       "      <td>Female</td>\n",
       "      <td>0</td>\n",
       "      <td>No</td>\n",
       "      <td>No</td>\n",
       "      <td>10</td>\n",
       "      <td>No</td>\n",
       "      <td>No phone service</td>\n",
       "      <td>DSL</td>\n",
       "      <td>Yes</td>\n",
       "      <td>No</td>\n",
       "      <td>No</td>\n",
       "      <td>No</td>\n",
       "      <td>No</td>\n",
       "      <td>No</td>\n",
       "      <td>Month-to-month</td>\n",
       "      <td>No</td>\n",
       "      <td>Mailed check</td>\n",
       "      <td>29.75</td>\n",
       "      <td>301.9</td>\n",
       "      <td>No</td>\n",
       "    </tr>\n",
       "    <tr>\n",
       "      <th>8</th>\n",
       "      <td>7892-POOKP</td>\n",
       "      <td>Female</td>\n",
       "      <td>0</td>\n",
       "      <td>Yes</td>\n",
       "      <td>No</td>\n",
       "      <td>28</td>\n",
       "      <td>Yes</td>\n",
       "      <td>Yes</td>\n",
       "      <td>Fiber optic</td>\n",
       "      <td>No</td>\n",
       "      <td>No</td>\n",
       "      <td>Yes</td>\n",
       "      <td>Yes</td>\n",
       "      <td>Yes</td>\n",
       "      <td>Yes</td>\n",
       "      <td>Month-to-month</td>\n",
       "      <td>Yes</td>\n",
       "      <td>Electronic check</td>\n",
       "      <td>104.80</td>\n",
       "      <td>3046.05</td>\n",
       "      <td>Yes</td>\n",
       "    </tr>\n",
       "    <tr>\n",
       "      <th>9</th>\n",
       "      <td>6388-TABGU</td>\n",
       "      <td>Male</td>\n",
       "      <td>0</td>\n",
       "      <td>No</td>\n",
       "      <td>Yes</td>\n",
       "      <td>62</td>\n",
       "      <td>Yes</td>\n",
       "      <td>No</td>\n",
       "      <td>DSL</td>\n",
       "      <td>Yes</td>\n",
       "      <td>Yes</td>\n",
       "      <td>No</td>\n",
       "      <td>No</td>\n",
       "      <td>No</td>\n",
       "      <td>No</td>\n",
       "      <td>One year</td>\n",
       "      <td>No</td>\n",
       "      <td>Bank transfer (automatic)</td>\n",
       "      <td>56.15</td>\n",
       "      <td>3487.95</td>\n",
       "      <td>No</td>\n",
       "    </tr>\n",
       "  </tbody>\n",
       "</table>\n",
       "</div>"
      ],
      "text/plain": [
       "   customerID  gender  SeniorCitizen Partner Dependents  tenure PhoneService  \\\n",
       "0  7590-VHVEG  Female              0     Yes         No       1           No   \n",
       "1  5575-GNVDE    Male              0      No         No      34          Yes   \n",
       "2  3668-QPYBK    Male              0      No         No       2          Yes   \n",
       "3  7795-CFOCW    Male              0      No         No      45           No   \n",
       "4  9237-HQITU  Female              0      No         No       2          Yes   \n",
       "5  9305-CDSKC  Female              0      No         No       8          Yes   \n",
       "6  1452-KIOVK    Male              0      No        Yes      22          Yes   \n",
       "7  6713-OKOMC  Female              0      No         No      10           No   \n",
       "8  7892-POOKP  Female              0     Yes         No      28          Yes   \n",
       "9  6388-TABGU    Male              0      No        Yes      62          Yes   \n",
       "\n",
       "      MultipleLines InternetService OnlineSecurity OnlineBackup  \\\n",
       "0  No phone service             DSL             No          Yes   \n",
       "1                No             DSL            Yes           No   \n",
       "2                No             DSL            Yes          Yes   \n",
       "3  No phone service             DSL            Yes           No   \n",
       "4                No     Fiber optic             No           No   \n",
       "5               Yes     Fiber optic             No           No   \n",
       "6               Yes     Fiber optic             No          Yes   \n",
       "7  No phone service             DSL            Yes           No   \n",
       "8               Yes     Fiber optic             No           No   \n",
       "9                No             DSL            Yes          Yes   \n",
       "\n",
       "  DeviceProtection TechSupport StreamingTV StreamingMovies        Contract  \\\n",
       "0               No          No          No              No  Month-to-month   \n",
       "1              Yes          No          No              No        One year   \n",
       "2               No          No          No              No  Month-to-month   \n",
       "3              Yes         Yes          No              No        One year   \n",
       "4               No          No          No              No  Month-to-month   \n",
       "5              Yes          No         Yes             Yes  Month-to-month   \n",
       "6               No          No         Yes              No  Month-to-month   \n",
       "7               No          No          No              No  Month-to-month   \n",
       "8              Yes         Yes         Yes             Yes  Month-to-month   \n",
       "9               No          No          No              No        One year   \n",
       "\n",
       "  PaperlessBilling              PaymentMethod  MonthlyCharges TotalCharges  \\\n",
       "0              Yes           Electronic check           29.85        29.85   \n",
       "1               No               Mailed check           56.95       1889.5   \n",
       "2              Yes               Mailed check           53.85       108.15   \n",
       "3               No  Bank transfer (automatic)           42.30      1840.75   \n",
       "4              Yes           Electronic check           70.70       151.65   \n",
       "5              Yes           Electronic check           99.65        820.5   \n",
       "6              Yes    Credit card (automatic)           89.10       1949.4   \n",
       "7               No               Mailed check           29.75        301.9   \n",
       "8              Yes           Electronic check          104.80      3046.05   \n",
       "9               No  Bank transfer (automatic)           56.15      3487.95   \n",
       "\n",
       "  Churn  \n",
       "0    No  \n",
       "1    No  \n",
       "2   Yes  \n",
       "3    No  \n",
       "4   Yes  \n",
       "5   Yes  \n",
       "6    No  \n",
       "7    No  \n",
       "8   Yes  \n",
       "9    No  "
      ]
     },
     "execution_count": 3,
     "metadata": {},
     "output_type": "execute_result"
    }
   ],
   "source": [
    "# 查看数据集大小\n",
    "customerDF.shape\n",
    "# 运行结果：(7043, 21)\n",
    "\n",
    "# 设置查看列不省略\n",
    "pd.set_option('display.max_columns',None)\n",
    "\n",
    "# 查看前10条数据\n",
    "customerDF.head(10)"
   ]
  },
  {
   "cell_type": "code",
   "execution_count": 4,
   "metadata": {},
   "outputs": [
    {
     "data": {
      "text/plain": [
       "customerID          0\n",
       "gender              0\n",
       "SeniorCitizen       0\n",
       "Partner             0\n",
       "Dependents          0\n",
       "tenure              0\n",
       "PhoneService        0\n",
       "MultipleLines       0\n",
       "InternetService     0\n",
       "OnlineSecurity      0\n",
       "OnlineBackup        0\n",
       "DeviceProtection    0\n",
       "TechSupport         0\n",
       "StreamingTV         0\n",
       "StreamingMovies     0\n",
       "Contract            0\n",
       "PaperlessBilling    0\n",
       "PaymentMethod       0\n",
       "MonthlyCharges      0\n",
       "TotalCharges        0\n",
       "Churn               0\n",
       "dtype: int64"
      ]
     },
     "execution_count": 4,
     "metadata": {},
     "output_type": "execute_result"
    }
   ],
   "source": [
    "# Null计数\n",
    "pd.isnull(customerDF).sum()"
   ]
  },
  {
   "cell_type": "code",
   "execution_count": 5,
   "metadata": {},
   "outputs": [
    {
     "name": "stdout",
     "output_type": "stream",
     "text": [
      "<class 'pandas.core.frame.DataFrame'>\n",
      "RangeIndex: 7043 entries, 0 to 7042\n",
      "Data columns (total 21 columns):\n",
      " #   Column            Non-Null Count  Dtype  \n",
      "---  ------            --------------  -----  \n",
      " 0   customerID        7043 non-null   object \n",
      " 1   gender            7043 non-null   object \n",
      " 2   SeniorCitizen     7043 non-null   int64  \n",
      " 3   Partner           7043 non-null   object \n",
      " 4   Dependents        7043 non-null   object \n",
      " 5   tenure            7043 non-null   int64  \n",
      " 6   PhoneService      7043 non-null   object \n",
      " 7   MultipleLines     7043 non-null   object \n",
      " 8   InternetService   7043 non-null   object \n",
      " 9   OnlineSecurity    7043 non-null   object \n",
      " 10  OnlineBackup      7043 non-null   object \n",
      " 11  DeviceProtection  7043 non-null   object \n",
      " 12  TechSupport       7043 non-null   object \n",
      " 13  StreamingTV       7043 non-null   object \n",
      " 14  StreamingMovies   7043 non-null   object \n",
      " 15  Contract          7043 non-null   object \n",
      " 16  PaperlessBilling  7043 non-null   object \n",
      " 17  PaymentMethod     7043 non-null   object \n",
      " 18  MonthlyCharges    7043 non-null   float64\n",
      " 19  TotalCharges      7043 non-null   object \n",
      " 20  Churn             7043 non-null   object \n",
      "dtypes: float64(1), int64(2), object(18)\n",
      "memory usage: 1.1+ MB\n"
     ]
    }
   ],
   "source": [
    "# 查看数据类型\n",
    "customerDF.info()\n",
    "#customerDF.dtypes"
   ]
  },
  {
   "cell_type": "markdown",
   "metadata": {},
   "source": [
    "发现‘TotalCharges’总消费额的数据类型为字符串，应该转换为浮点型数据,将‘TotalCharges’总消费额的数据类型转换为浮点型，发现错误：字符串无法转换为数字。"
   ]
  },
  {
   "cell_type": "code",
   "execution_count": 6,
   "metadata": {},
   "outputs": [],
   "source": [
    "#customerDf[['TotalCharges']].astype(float)\n",
    "#ValueError: could not convert string to float: "
   ]
  },
  {
   "cell_type": "markdown",
   "metadata": {},
   "source": [
    "检查各个字段的数据类型、字段内容和数量。最后发现“TotalCharges”（总消费额）列有11个用户数据缺失"
   ]
  },
  {
   "cell_type": "code",
   "execution_count": 7,
   "metadata": {},
   "outputs": [
    {
     "name": "stdout",
     "output_type": "stream",
     "text": [
      "customerID 的行数是：7043\n",
      "customerID 的数据类型是：object\n",
      "customerID 的内容是：\n",
      "8966-SNIZF    1\n",
      "8200-KLNYW    1\n",
      "4110-PFEUZ    1\n",
      "3453-RTHJQ    1\n",
      "7173-TETGO    1\n",
      "             ..\n",
      "2656-TABEH    1\n",
      "3130-ICDUP    1\n",
      "0225-ZORZP    1\n",
      "4018-KJYUY    1\n",
      "0679-IDSTG    1\n",
      "Name: customerID, Length: 7043, dtype: int64\n",
      "\n",
      "gender 的行数是：7043\n",
      "gender 的数据类型是：object\n",
      "gender 的内容是：\n",
      "Male      3555\n",
      "Female    3488\n",
      "Name: gender, dtype: int64\n",
      "\n",
      "SeniorCitizen 的行数是：7043\n",
      "SeniorCitizen 的数据类型是：int64\n",
      "SeniorCitizen 的内容是：\n",
      "0    5901\n",
      "1    1142\n",
      "Name: SeniorCitizen, dtype: int64\n",
      "\n",
      "Partner 的行数是：7043\n",
      "Partner 的数据类型是：object\n",
      "Partner 的内容是：\n",
      "No     3641\n",
      "Yes    3402\n",
      "Name: Partner, dtype: int64\n",
      "\n",
      "Dependents 的行数是：7043\n",
      "Dependents 的数据类型是：object\n",
      "Dependents 的内容是：\n",
      "No     4933\n",
      "Yes    2110\n",
      "Name: Dependents, dtype: int64\n",
      "\n",
      "tenure 的行数是：7043\n",
      "tenure 的数据类型是：int64\n",
      "tenure 的内容是：\n",
      "1     613\n",
      "72    362\n",
      "2     238\n",
      "3     200\n",
      "4     176\n",
      "     ... \n",
      "28     57\n",
      "39     56\n",
      "44     51\n",
      "36     50\n",
      "0      11\n",
      "Name: tenure, Length: 73, dtype: int64\n",
      "\n",
      "PhoneService 的行数是：7043\n",
      "PhoneService 的数据类型是：object\n",
      "PhoneService 的内容是：\n",
      "Yes    6361\n",
      "No      682\n",
      "Name: PhoneService, dtype: int64\n",
      "\n",
      "MultipleLines 的行数是：7043\n",
      "MultipleLines 的数据类型是：object\n",
      "MultipleLines 的内容是：\n",
      "No                  3390\n",
      "Yes                 2971\n",
      "No phone service     682\n",
      "Name: MultipleLines, dtype: int64\n",
      "\n",
      "InternetService 的行数是：7043\n",
      "InternetService 的数据类型是：object\n",
      "InternetService 的内容是：\n",
      "Fiber optic    3096\n",
      "DSL            2421\n",
      "No             1526\n",
      "Name: InternetService, dtype: int64\n",
      "\n",
      "OnlineSecurity 的行数是：7043\n",
      "OnlineSecurity 的数据类型是：object\n",
      "OnlineSecurity 的内容是：\n",
      "No                     3498\n",
      "Yes                    2019\n",
      "No internet service    1526\n",
      "Name: OnlineSecurity, dtype: int64\n",
      "\n",
      "OnlineBackup 的行数是：7043\n",
      "OnlineBackup 的数据类型是：object\n",
      "OnlineBackup 的内容是：\n",
      "No                     3088\n",
      "Yes                    2429\n",
      "No internet service    1526\n",
      "Name: OnlineBackup, dtype: int64\n",
      "\n",
      "DeviceProtection 的行数是：7043\n",
      "DeviceProtection 的数据类型是：object\n",
      "DeviceProtection 的内容是：\n",
      "No                     3095\n",
      "Yes                    2422\n",
      "No internet service    1526\n",
      "Name: DeviceProtection, dtype: int64\n",
      "\n",
      "TechSupport 的行数是：7043\n",
      "TechSupport 的数据类型是：object\n",
      "TechSupport 的内容是：\n",
      "No                     3473\n",
      "Yes                    2044\n",
      "No internet service    1526\n",
      "Name: TechSupport, dtype: int64\n",
      "\n",
      "StreamingTV 的行数是：7043\n",
      "StreamingTV 的数据类型是：object\n",
      "StreamingTV 的内容是：\n",
      "No                     2810\n",
      "Yes                    2707\n",
      "No internet service    1526\n",
      "Name: StreamingTV, dtype: int64\n",
      "\n",
      "StreamingMovies 的行数是：7043\n",
      "StreamingMovies 的数据类型是：object\n",
      "StreamingMovies 的内容是：\n",
      "No                     2785\n",
      "Yes                    2732\n",
      "No internet service    1526\n",
      "Name: StreamingMovies, dtype: int64\n",
      "\n",
      "Contract 的行数是：7043\n",
      "Contract 的数据类型是：object\n",
      "Contract 的内容是：\n",
      "Month-to-month    3875\n",
      "Two year          1695\n",
      "One year          1473\n",
      "Name: Contract, dtype: int64\n",
      "\n",
      "PaperlessBilling 的行数是：7043\n",
      "PaperlessBilling 的数据类型是：object\n",
      "PaperlessBilling 的内容是：\n",
      "Yes    4171\n",
      "No     2872\n",
      "Name: PaperlessBilling, dtype: int64\n",
      "\n",
      "PaymentMethod 的行数是：7043\n",
      "PaymentMethod 的数据类型是：object\n",
      "PaymentMethod 的内容是：\n",
      "Electronic check             2365\n",
      "Mailed check                 1612\n",
      "Bank transfer (automatic)    1544\n",
      "Credit card (automatic)      1522\n",
      "Name: PaymentMethod, dtype: int64\n",
      "\n",
      "MonthlyCharges 的行数是：7043\n",
      "MonthlyCharges 的数据类型是：float64\n",
      "MonthlyCharges 的内容是：\n",
      "20.05     61\n",
      "19.85     45\n",
      "19.95     44\n",
      "19.90     44\n",
      "20.00     43\n",
      "          ..\n",
      "114.75     1\n",
      "103.60     1\n",
      "113.40     1\n",
      "57.65      1\n",
      "113.30     1\n",
      "Name: MonthlyCharges, Length: 1585, dtype: int64\n",
      "\n",
      "TotalCharges 的行数是：7043\n",
      "TotalCharges 的数据类型是：object\n",
      "TotalCharges 的内容是：\n",
      "20.2       11\n",
      "           11\n",
      "19.75       9\n",
      "19.9        8\n",
      "19.65       8\n",
      "           ..\n",
      "4445.3      1\n",
      "4729.75     1\n",
      "412.6       1\n",
      "5812.6      1\n",
      "3349.1      1\n",
      "Name: TotalCharges, Length: 6531, dtype: int64\n",
      "\n",
      "Churn 的行数是：7043\n",
      "Churn 的数据类型是：object\n",
      "Churn 的内容是：\n",
      "No     5174\n",
      "Yes    1869\n",
      "Name: Churn, dtype: int64\n",
      "\n"
     ]
    }
   ],
   "source": [
    "# 查看每一列数据取值\n",
    "for x in customerDF.columns:\n",
    "    # value_counts 计算每个值有多少个重复值\n",
    "    # loc 使用column名和index名进行定位\n",
    "    test=customerDF.loc[:,x].value_counts() # :标识取所有行数据，x表示取当前列 \n",
    "    print('{0} 的行数是：{1}'.format(x,test.sum()))\n",
    "    print('{0} 的数据类型是：{1}'.format(x,customerDF[x].dtypes))\n",
    "    print('{0} 的内容是：\\n{1}\\n'.format(x,test))"
   ]
  },
  {
   "cell_type": "markdown",
   "metadata": {},
   "source": [
    "##### 开始清洗"
   ]
  },
  {
   "cell_type": "code",
   "execution_count": 8,
   "metadata": {},
   "outputs": [],
   "source": [
    "#强制转换为数字，不可转换的变为NaN  (convert_objects 在新版pandas不再适用，改为to_nummerice ，errors='coerce')\n",
    "#customerDF['TotalCharges']=customerDF['TotalCharges'].convert_objects(condavert_numeric=True)\n",
    "customerDF['TotalCharges']=pd.to_numeric(customerDF['TotalCharges'],errors='coerce')"
   ]
  },
  {
   "cell_type": "code",
   "execution_count": 9,
   "metadata": {},
   "outputs": [
    {
     "name": "stdout",
     "output_type": "stream",
     "text": [
      "7032\n",
      "488     0\n",
      "753     0\n",
      "936     0\n",
      "1082    0\n",
      "1340    0\n",
      "3331    0\n",
      "3826    0\n",
      "4380    0\n",
      "5218    0\n",
      "6670    0\n",
      "6754    0\n",
      "Name: tenure, dtype: int64\n"
     ]
    }
   ],
   "source": [
    "test=customerDF.loc[:,'TotalCharges'].value_counts().sort_index()\n",
    "print(test.sum())\n",
    "\n",
    "print(customerDF.tenure[customerDF['TotalCharges'].isnull().values==True])"
   ]
  },
  {
   "cell_type": "code",
   "execution_count": 10,
   "metadata": {},
   "outputs": [
    {
     "name": "stdout",
     "output_type": "stream",
     "text": [
      "customerID          False\n",
      "gender              False\n",
      "SeniorCitizen       False\n",
      "Partner             False\n",
      "Dependents          False\n",
      "tenure              False\n",
      "PhoneService        False\n",
      "MultipleLines       False\n",
      "InternetService     False\n",
      "OnlineSecurity      False\n",
      "OnlineBackup        False\n",
      "DeviceProtection    False\n",
      "TechSupport         False\n",
      "StreamingTV         False\n",
      "StreamingMovies     False\n",
      "Contract            False\n",
      "PaperlessBilling    False\n",
      "PaymentMethod       False\n",
      "MonthlyCharges      False\n",
      "TotalCharges         True\n",
      "Churn               False\n",
      "dtype: bool\n",
      "      tenure  MonthlyCharges  TotalCharges\n",
      "488        0           52.55           NaN\n",
      "753        0           20.25           NaN\n",
      "936        0           80.85           NaN\n",
      "1082       0           25.75           NaN\n",
      "1340       0           56.05           NaN\n",
      "3331       0           19.85           NaN\n",
      "3826       0           25.35           NaN\n",
      "4380       0           20.00           NaN\n",
      "5218       0           19.70           NaN\n",
      "6670       0           73.35           NaN\n",
      "6754       0           61.90           NaN\n"
     ]
    }
   ],
   "source": [
    "print(customerDF.isnull().any())\n",
    "print(customerDF[customerDF['TotalCharges'].isnull().values==True][['tenure','MonthlyCharges','TotalCharges']])"
   ]
  },
  {
   "cell_type": "markdown",
   "metadata": {},
   "source": [
    "用户即使在注册的当月流失，也需缴纳当月费用。因此将这11个用户入网时长改为1，将总消费额填充为月消费额"
   ]
  },
  {
   "cell_type": "code",
   "execution_count": 11,
   "metadata": {},
   "outputs": [
    {
     "name": "stdout",
     "output_type": "stream",
     "text": [
      "      tenure  MonthlyCharges  TotalCharges\n",
      "488        0           52.55         52.55\n",
      "753        0           20.25         20.25\n",
      "936        0           80.85         80.85\n",
      "1082       0           25.75         25.75\n",
      "1340       0           56.05         56.05\n",
      "3331       0           19.85         19.85\n",
      "3826       0           25.35         25.35\n",
      "4380       0           20.00         20.00\n",
      "5218       0           19.70         19.70\n",
      "6670       0           73.35         73.35\n",
      "6754       0           61.90         61.90\n"
     ]
    }
   ],
   "source": [
    "#将总消费额填充为月消费额\n",
    "customerDF.loc[:,'TotalCharges'].replace(to_replace=np.nan,value=customerDF.loc[:,'MonthlyCharges'],inplace=True)\n",
    "#查看是否替换成功\n",
    "print(customerDF[customerDF['tenure']==0][['tenure','MonthlyCharges','TotalCharges']])"
   ]
  },
  {
   "cell_type": "code",
   "execution_count": 12,
   "metadata": {},
   "outputs": [
    {
     "name": "stdout",
     "output_type": "stream",
     "text": [
      "0\n",
      "float64\n"
     ]
    }
   ],
   "source": [
    "# 将‘tenure’入网时长从0修改为1\n",
    "customerDF.loc[:,'tenure'].replace(to_replace=0,value=1,inplace=True)\n",
    "print(pd.isnull(customerDF['TotalCharges']).sum())\n",
    "print(customerDF['TotalCharges'].dtypes)"
   ]
  },
  {
   "cell_type": "code",
   "execution_count": 13,
   "metadata": {},
   "outputs": [
    {
     "data": {
      "text/html": [
       "<div>\n",
       "<style scoped>\n",
       "    .dataframe tbody tr th:only-of-type {\n",
       "        vertical-align: middle;\n",
       "    }\n",
       "\n",
       "    .dataframe tbody tr th {\n",
       "        vertical-align: top;\n",
       "    }\n",
       "\n",
       "    .dataframe thead th {\n",
       "        text-align: right;\n",
       "    }\n",
       "</style>\n",
       "<table border=\"1\" class=\"dataframe\">\n",
       "  <thead>\n",
       "    <tr style=\"text-align: right;\">\n",
       "      <th></th>\n",
       "      <th>SeniorCitizen</th>\n",
       "      <th>tenure</th>\n",
       "      <th>MonthlyCharges</th>\n",
       "      <th>TotalCharges</th>\n",
       "    </tr>\n",
       "  </thead>\n",
       "  <tbody>\n",
       "    <tr>\n",
       "      <th>count</th>\n",
       "      <td>7043.000000</td>\n",
       "      <td>7043.000000</td>\n",
       "      <td>7043.000000</td>\n",
       "      <td>7043.000000</td>\n",
       "    </tr>\n",
       "    <tr>\n",
       "      <th>mean</th>\n",
       "      <td>0.162147</td>\n",
       "      <td>32.372710</td>\n",
       "      <td>64.761692</td>\n",
       "      <td>2279.798992</td>\n",
       "    </tr>\n",
       "    <tr>\n",
       "      <th>std</th>\n",
       "      <td>0.368612</td>\n",
       "      <td>24.557454</td>\n",
       "      <td>30.090047</td>\n",
       "      <td>2266.730170</td>\n",
       "    </tr>\n",
       "    <tr>\n",
       "      <th>min</th>\n",
       "      <td>0.000000</td>\n",
       "      <td>1.000000</td>\n",
       "      <td>18.250000</td>\n",
       "      <td>18.800000</td>\n",
       "    </tr>\n",
       "    <tr>\n",
       "      <th>25%</th>\n",
       "      <td>0.000000</td>\n",
       "      <td>9.000000</td>\n",
       "      <td>35.500000</td>\n",
       "      <td>398.550000</td>\n",
       "    </tr>\n",
       "    <tr>\n",
       "      <th>50%</th>\n",
       "      <td>0.000000</td>\n",
       "      <td>29.000000</td>\n",
       "      <td>70.350000</td>\n",
       "      <td>1394.550000</td>\n",
       "    </tr>\n",
       "    <tr>\n",
       "      <th>75%</th>\n",
       "      <td>0.000000</td>\n",
       "      <td>55.000000</td>\n",
       "      <td>89.850000</td>\n",
       "      <td>3786.600000</td>\n",
       "    </tr>\n",
       "    <tr>\n",
       "      <th>max</th>\n",
       "      <td>1.000000</td>\n",
       "      <td>72.000000</td>\n",
       "      <td>118.750000</td>\n",
       "      <td>8684.800000</td>\n",
       "    </tr>\n",
       "  </tbody>\n",
       "</table>\n",
       "</div>"
      ],
      "text/plain": [
       "       SeniorCitizen       tenure  MonthlyCharges  TotalCharges\n",
       "count    7043.000000  7043.000000     7043.000000   7043.000000\n",
       "mean        0.162147    32.372710       64.761692   2279.798992\n",
       "std         0.368612    24.557454       30.090047   2266.730170\n",
       "min         0.000000     1.000000       18.250000     18.800000\n",
       "25%         0.000000     9.000000       35.500000    398.550000\n",
       "50%         0.000000    29.000000       70.350000   1394.550000\n",
       "75%         0.000000    55.000000       89.850000   3786.600000\n",
       "max         1.000000    72.000000      118.750000   8684.800000"
      ]
     },
     "execution_count": 13,
     "metadata": {},
     "output_type": "execute_result"
    }
   ],
   "source": [
    "# 获取数据类型的描述统计信息\n",
    "customerDF.describe()"
   ]
  },
  {
   "cell_type": "markdown",
   "metadata": {},
   "source": [
    "## 可视化分析"
   ]
  },
  {
   "cell_type": "markdown",
   "metadata": {},
   "source": [
    "用户特征划分为用户属性、服务属性、合同属性，并从这三个维度进行可视化分析。"
   ]
  },
  {
   "cell_type": "markdown",
   "metadata": {},
   "source": [
    "查看流失用户数量和占比"
   ]
  },
  {
   "cell_type": "code",
   "execution_count": 14,
   "metadata": {},
   "outputs": [
    {
     "data": {
      "image/png": "[encoded data removed]",
      "text/plain": [
       "<Figure size 432x432 with 1 Axes>"
      ]
     },
     "metadata": {},
     "output_type": "display_data"
    }
   ],
   "source": [
    "plt.rcParams['figure.figsize']=6,6\n",
    "plt.pie(customerDF['Churn'].value_counts(),labels=customerDF['Churn'].value_counts().index,autopct='%1.2f%%',explode=(0.1,0))\n",
    "plt.title('Churn(Yes/No) Ratio')\n",
    "plt.show()"
   ]
  },
  {
   "cell_type": "code",
   "execution_count": 15,
   "metadata": {},
   "outputs": [
    {
     "data": {
      "image/png": "[encoded data removed]",
      "text/plain": [
       "<Figure size 432x432 with 1 Axes>"
      ]
     },
     "metadata": {
      "needs_background": "light"
     },
     "output_type": "display_data"
    }
   ],
   "source": [
    "churnDf=customerDF['Churn'].value_counts().to_frame()\n",
    "x=churnDf.index\n",
    "y=churnDf['Churn']\n",
    "plt.bar(x,y,width = 0.6,color = 'c')\n",
    "\n",
    "#用来正常显示中文标签（需要安装字库）\n",
    "plt.title('Churn(Yes/No) Num')\n",
    "plt.show()"
   ]
  },
  {
   "cell_type": "markdown",
   "metadata": {},
   "source": [
    "## 用户属性分析"
   ]
  },
  {
   "cell_type": "code",
   "execution_count": 16,
   "metadata": {},
   "outputs": [
    {
     "data": {
      "image/png": "[encoded data removed]",
      "text/plain": [
       "<Figure size 432x432 with 1 Axes>"
      ]
     },
     "metadata": {
      "needs_background": "light"
     },
     "output_type": "display_data"
    },
    {
     "data": {
      "image/png": "[encoded data removed]",
      "text/plain": [
       "<Figure size 432x432 with 1 Axes>"
      ]
     },
     "metadata": {
      "needs_background": "light"
     },
     "output_type": "display_data"
    }
   ],
   "source": [
    "def barplot_percentages(feature,orient='v',axis_name=\"percentage of customers\"):\n",
    "    ratios = pd.DataFrame()\n",
    "    g = (customerDF.groupby(feature)[\"Churn\"].value_counts()/len(customerDF)).to_frame()\n",
    "    g.rename(columns={\"Churn\":axis_name},inplace=True)\n",
    "    g.reset_index(inplace=True)\n",
    " \n",
    "    #print(g)\n",
    "    if orient == 'v':\n",
    "        ax = sns.barplot(x=feature, y= axis_name, hue='Churn', data=g, orient=orient)\n",
    "        ax.set_yticklabels(['{:,.0%}'.format(y) for y in ax.get_yticks()])\n",
    "        plt.rcParams.update({'font.size': 13})\n",
    "        #plt.legend(fontsize=10)\n",
    "    else:\n",
    "        ax = sns.barplot(x= axis_name, y=feature, hue='Churn', data=g, orient=orient)\n",
    "        ax.set_xticklabels(['{:,.0%}'.format(x) for x in ax.get_xticks()])\n",
    "        plt.legend(fontsize=10)\n",
    "    plt.title('Churn(Yes/No) Ratio as {0}'.format(feature))\n",
    "    plt.show()\n",
    "    \n",
    "barplot_percentages(\"SeniorCitizen\")\n",
    "barplot_percentages(\"gender\")"
   ]
  },
  {
   "cell_type": "code",
   "execution_count": 17,
   "metadata": {},
   "outputs": [
    {
     "data": {
      "image/png": "[encoded data removed]",
      "text/plain": [
       "<Figure size 518.4x288 with 2 Axes>"
      ]
     },
     "metadata": {
      "needs_background": "light"
     },
     "output_type": "display_data"
    }
   ],
   "source": [
    "customerDF['churn_rate'] = customerDF['Churn'].replace(\"No\", 0).replace(\"Yes\", 1)\n",
    "\n",
    "g = sns.FacetGrid(customerDF, col=\"SeniorCitizen\", height=4, aspect=.9)\n",
    "ax = g.map(sns.barplot, \"gender\", \"churn_rate\", palette = \"Blues_d\", order= ['Female', 'Male'])\n",
    "plt.rcParams.update({'font.size': 13})\n",
    "plt.show()"
   ]
  },
  {
   "cell_type": "markdown",
   "metadata": {},
   "source": [
    "分析小结：用户流失与性别基本无关； 年老用户流失占显著高于年轻用户。"
   ]
  },
  {
   "cell_type": "code",
   "execution_count": 18,
   "metadata": {},
   "outputs": [
    {
     "data": {
      "image/png": "[encoded data removed]",
      "text/plain": [
       "<Figure size 864x288 with 2 Axes>"
      ]
     },
     "metadata": {
      "needs_background": "light"
     },
     "output_type": "display_data"
    }
   ],
   "source": [
    "fig, axis = plt.subplots(1, 2, figsize=(12,4))\n",
    "axis[0].set_title(\"Has Partner\")\n",
    "axis[1].set_title(\"Has Dependents\")\n",
    "axis_y = \"percentage of customers\"\n",
    "\n",
    "# Plot Partner column\n",
    "gp_partner = (customerDF.groupby('Partner')[\"Churn\"].value_counts()/len(customerDF)).to_frame()\n",
    "gp_partner.rename(columns={\"Churn\": axis_y}, inplace=True)\n",
    "gp_partner.reset_index(inplace=True)\n",
    "ax1 = sns.barplot(x='Partner', y= axis_y, hue='Churn', data=gp_partner, ax=axis[0])\n",
    "ax1.legend(fontsize=10)\n",
    "#ax1.set_xlabel('伴侣')\n",
    "\n",
    "\n",
    "# Plot Dependents column\n",
    "gp_dep = (customerDF.groupby('Dependents')[\"Churn\"].value_counts()/len(customerDF)).to_frame()\n",
    "#print(gp_dep)\n",
    "gp_dep.rename(columns={\"Churn\": axis_y} , inplace=True)\n",
    "#print(gp_dep)\n",
    "gp_dep.reset_index(inplace=True)\n",
    "#print(gp_dep)\n",
    "\n",
    "ax2 = sns.barplot(x='Dependents', y= axis_y, hue='Churn', data=gp_dep, ax=axis[1])\n",
    "#ax2.set_xlabel('家属')\n",
    "\n",
    "\n",
    "#设置字体大小\n",
    "plt.rcParams.update({'font.size': 20})\n",
    "ax2.legend(fontsize=10)\n",
    "\n",
    "#设置\n",
    "plt.show()"
   ]
  },
  {
   "cell_type": "code",
   "execution_count": 22,
   "metadata": {},
   "outputs": [
    {
     "name": "stdout",
     "output_type": "stream",
     "text": [
      "2        2\n",
      "4        2\n",
      "5        8\n",
      "8       28\n",
      "13      49\n",
      "        ..\n",
      "7021    12\n",
      "7026     9\n",
      "7032     1\n",
      "7034    67\n",
      "7041     4\n",
      "Name: tenure, Length: 1869, dtype: int64\n"
     ]
    },
    {
     "data": {
      "image/png": "[encoded data removed]",
      "text/plain": [
       "<Figure size 648x288 with 1 Axes>"
      ]
     },
     "metadata": {
      "needs_background": "light"
     },
     "output_type": "display_data"
    }
   ],
   "source": [
    "def kdeplot(feature,xlabel):\n",
    "    plt.figure(figsize=(9, 4))\n",
    "    plt.title(\"KDE for {0}\".format(feature))\n",
    "    ax0 = sns.kdeplot(customerDF[customerDF['Churn'] == 'No'][feature].dropna(), color= 'navy', label= 'Churn: No', shade='True')\n",
    "    ax1 = sns.kdeplot(customerDF[customerDF['Churn'] == 'Yes'][feature].dropna(), color= 'orange', label= 'Churn: Yes',shade='True')\n",
    "    plt.xlabel(xlabel)\n",
    "\n",
    "    #设置字体大小\n",
    "    plt.rcParams.update({'font.size': 20})\n",
    "    plt.legend(fontsize=10)\n",
    "kdeplot('tenure','tenure')\n",
    "plt.show()"
   ]
  },
  {
   "cell_type": "markdown",
   "metadata": {},
   "source": [
    "小结：\n",
    "\n",
    "+ 有伴侣的用户流失占比低于无伴侣用户；\n",
    "+ 有家属的用户较少；\n",
    "+ 有家属的用户流失占比低于无家属用户;\n",
    "+ 在网时长越久，流失率越低，符合一般经验；\n",
    "+ 在网时间达到三个月，流失率小于在网率，证明用户心理稳定期一般是三个月"
   ]
  }
 ],
 "metadata": {
  "kernelspec": {
   "display_name": "Python 3",
   "language": "python",
   "name": "python3"
  },
  "language_info": {
   "codemirror_mode": {
    "name": "ipython",
    "version": 3
   },
   "file_extension": ".py",
   "mimetype": "text/x-python",
   "name": "python",
   "nbconvert_exporter": "python",
   "pygments_lexer": "ipython3",
   "version": "3.7.7"
  }
 },
 "nbformat": 4,
 "nbformat_minor": 4
}
