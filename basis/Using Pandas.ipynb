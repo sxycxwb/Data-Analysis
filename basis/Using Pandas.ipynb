{
 "cells": [
  {
   "cell_type": "markdown",
   "metadata": {},
   "source": [
    "![title](../images/UsingPandas.png)"
   ]
  },
  {
   "cell_type": "markdown",
   "metadata": {},
   "source": [
    "## 数据结构 Series , DataFrame"
   ]
  },
  {
   "cell_type": "markdown",
   "metadata": {},
   "source": [
    "### Series是定长的字典序列"
   ]
  },
  {
   "cell_type": "markdown",
   "metadata": {},
   "source": [
    "series在存储时，相当于两个ndarray，定长是它与不定长的字典结构的主要区别\n",
    "两个基本属性，index和values，index默认是0,1,2,3递增，也可以指定索引，如 index=['x','y','z']"
   ]
  },
  {
   "cell_type": "code",
   "execution_count": 67,
   "metadata": {},
   "outputs": [
    {
     "name": "stdout",
     "output_type": "stream",
     "text": [
      "0    7\n",
      "1    8\n",
      "2    9\n",
      "dtype: int64\n",
      "x    7\n",
      "y    8\n",
      "z    9\n",
      "dtype: int64\n",
      "x    7\n",
      "y    8\n",
      "z    9\n",
      "dtype: int64\n"
     ]
    }
   ],
   "source": [
    "import pandas as pd\n",
    "from pandas import Series, DataFrame\n",
    "x1 = Series([7, 8, 9])\n",
    "x2 = Series(data=[7, 8, 9], index=['x', 'y', 'z'])\n",
    "dict = {'x': 7, 'y': 8, 'z': 9} #利用字典构建series\n",
    "x3 = Series(dict)\n",
    "print(x1)\n",
    "print(x2)\n",
    "print(x3)"
   ]
  },
  {
   "cell_type": "markdown",
   "metadata": {},
   "source": [
    "## DataFrame 数据结构类似数据库表"
   ]
  },
  {
   "cell_type": "markdown",
   "metadata": {},
   "source": [
    "包含行索引和列索引，看成是由相同索引的Series组成的字典类型"
   ]
  },
  {
   "cell_type": "code",
   "execution_count": 17,
   "metadata": {},
   "outputs": [
    {
     "name": "stdout",
     "output_type": "stream",
     "text": [
      "   English  Math  Physical\n",
      "0       55    23        10\n",
      "1       23    88        44\n",
      "2       78    45        57\n",
      "3       34    75        88\n",
      "          English  Math  Physical\n",
      "ZhangSan       55    23        10\n",
      "LiSi           23    88        44\n",
      "WangWu         78    45        57\n",
      "ZhaoLiu        34    75        88\n"
     ]
    }
   ],
   "source": [
    "import pandas as pd \n",
    "from pandas import Series,DataFrame\n",
    "data = {'English':[55,23,78,34],'Math':[23,88,45,75],'Physical':[10,44,57,88]}\n",
    "df1 = DataFrame(data)\n",
    "df2 = DataFrame(data=data,index=['ZhangSan','LiSi','WangWu','ZhaoLiu'])\n",
    "print (df1)\n",
    "print (df2)"
   ]
  },
  {
   "cell_type": "markdown",
   "metadata": {},
   "source": [
    "## 数据清洗"
   ]
  },
  {
   "cell_type": "markdown",
   "metadata": {},
   "source": [
    "#### 删除不必要的行或列 - drop"
   ]
  },
  {
   "cell_type": "code",
   "execution_count": 27,
   "metadata": {},
   "outputs": [
    {
     "name": "stdout",
     "output_type": "stream",
     "text": [
      "          Math  Physical\n",
      "ZhangSan    23        10\n",
      "LiSi        88        44\n",
      "WangWu      45        57\n",
      "ZhaoLiu     75        88\n"
     ]
    }
   ],
   "source": [
    "import pandas as pd \n",
    "from pandas import Series,DataFrame\n",
    "\n",
    "data = {'English':[55,23,78,34],'Math':[23,88,45,75],'Physical':[10,44,57,88]}\n",
    "df = DataFrame(data=data,index=['ZhangSan','LiSi','WangWu','ZhaoLiu'])\n",
    "df = df.drop(columns=['English'])\n",
    "df = df.drop(index=[\"LiSi\"])\n",
    "print (df)"
   ]
  },
  {
   "cell_type": "markdown",
   "metadata": {},
   "source": [
    "#### 重命名列名 - rename(columns=new_names,inplace=True)"
   ]
  },
  {
   "cell_type": "code",
   "execution_count": 40,
   "metadata": {},
   "outputs": [
    {
     "name": "stdout",
     "output_type": "stream",
     "text": [
      "before:\n",
      "          English  Math  Physical\n",
      "ZhangSan       55    23        10\n",
      "LiSi           23    88        44\n",
      "WangWu         78    45        57\n",
      "ZhaoLiu        34    75        88\n",
      "\r\n",
      "rename after:\n",
      "          yingyu  Math  wulil\n",
      "ZhangSan      55    23     10\n",
      "LiSi          23    88     44\n",
      "WangWu        78    45     57\n",
      "ZhaoLiu       34    75     88\n"
     ]
    }
   ],
   "source": [
    "import pandas as pd\n",
    "from pandas import Series, DataFrame\n",
    "\n",
    "data = {'English': [55, 23, 78, 34], 'Math': [\n",
    "    23, 88, 45, 75], 'Physical': [10, 44, 57, 88]}\n",
    "df = DataFrame(data=data, index=['ZhangSan', 'LiSi', 'WangWu', 'ZhaoLiu'])\n",
    "print('before:')\n",
    "print(df)\n",
    "df.rename(columns={'English': 'yingyu', 'Physical': 'wulil'},\n",
    "          inplace=True)  # inplace 表示是否在原对象上修改\n",
    "print('\\r\\nrename after:')\n",
    "print(df)"
   ]
  },
  {
   "cell_type": "markdown",
   "metadata": {},
   "source": [
    "#### 去重重复行 - drop_duplicates"
   ]
  },
  {
   "cell_type": "code",
   "execution_count": 54,
   "metadata": {},
   "outputs": [
    {
     "name": "stdout",
     "output_type": "stream",
     "text": [
      "before:\n",
      "          English  Math  Physical\n",
      "ZhangSan       55    55        10\n",
      "LiSi           23    88        44\n",
      "WangWu         23    88        44\n",
      "ZhaoLiu        34    55        55\n",
      "\r\n",
      "drop_duplicates rows after:\n",
      "          English  Math  Physical\n",
      "ZhangSan       55    55        10\n",
      "LiSi           23    88        44\n",
      "ZhaoLiu        34    55        55\n",
      "\r\n",
      "drop_duplicates rows after:\n",
      "          English  Math  Physical\n",
      "ZhangSan       55    55        10\n",
      "LiSi           23    88        44\n"
     ]
    }
   ],
   "source": [
    "import pandas as pd\n",
    "from pandas import Series, DataFrame\n",
    "\n",
    "data = {'English': [55, 23, 23, 34], 'Math': [55, 88, 88, 55], 'Physical': [10, 44, 44, 55]}\n",
    "df = DataFrame(data=data, index=['ZhangSan', 'LiSi', 'WangWu', 'ZhaoLiu'])\n",
    "print('before:')\n",
    "print(df)\n",
    "\n",
    "delrow_df = df.drop_duplicates(inplace=False)\n",
    "print('\\r\\ndrop_duplicates rows after:')\n",
    "print(delrow_df)\n",
    "\n",
    "# subset 考虑重复发生在哪一列, keep 包含三个参数 first(默认) last False\n",
    "delrow_df = df.drop_duplicates(subset=['Math'],keep='first',inplace=False)\n",
    "print('\\r\\ndrop_duplicates rows after:')\n",
    "print(delrow_df)"
   ]
  },
  {
   "cell_type": "markdown",
   "metadata": {},
   "source": [
    "#### 更改数据格式"
   ]
  },
  {
   "cell_type": "markdown",
   "metadata": {},
   "source": [
    "###### 1.更改数据类型 - astype"
   ]
  },
  {
   "cell_type": "code",
   "execution_count": 56,
   "metadata": {},
   "outputs": [
    {
     "data": {
      "text/plain": [
       "ZhangSan    55\n",
       "LiSi        23\n",
       "WangWu      23\n",
       "ZhaoLiu     34\n",
       "Name: English, dtype: int64"
      ]
     },
     "execution_count": 56,
     "metadata": {},
     "output_type": "execute_result"
    }
   ],
   "source": [
    "import pandas as pd\n",
    "import numpy as np\n",
    "from pandas import Series, DataFrame\n",
    "\n",
    "data = {'English': [55, 23, 23, 34], 'Math': [55, 88, 88, 55], 'Physical': [10, 44, 44, 55]}\n",
    "df = DataFrame(data=data, index=['ZhangSan', 'LiSi', 'WangWu', 'ZhaoLiu'])\n",
    "\n",
    "df['English'].astype('str') \n",
    "df['English'].astype(np.int64) "
   ]
  },
  {
   "cell_type": "markdown",
   "metadata": {},
   "source": [
    "###### 2.去除空格，大小写处理 - strip,upper,lower,title (python中的字符串格式化函数)"
   ]
  },
  {
   "cell_type": "code",
   "execution_count": 68,
   "metadata": {},
   "outputs": [
    {
     "name": "stdout",
     "output_type": "stream",
     "text": [
      "         English Math Physical\n",
      "ZhangSan     55$   5a       10\n",
      "LiSi          23   88       4n\n",
      "WangWu        23   8t       44\n",
      "ZhaoLiu       34   55       a5\n",
      "         ENGLISH MATH PHYSICAL\n",
      "ZhangSan     55$   5a       10\n",
      "LiSi          23   88       4n\n",
      "WangWu        23   8t       44\n",
      "ZhaoLiu       34   55       a5\n",
      "         english math physical\n",
      "ZhangSan     55$   5a       10\n",
      "LiSi          23   88       4n\n",
      "WangWu        23   8t       44\n",
      "ZhaoLiu       34   55       a5\n",
      "         English Math Physical\n",
      "ZhangSan     55$   5a       10\n",
      "LiSi          23   88       4n\n",
      "WangWu        23   8t       44\n",
      "ZhaoLiu       34   55       a5\n"
     ]
    }
   ],
   "source": [
    "import pandas as pd\n",
    "from pandas import Series, DataFrame\n",
    "\n",
    "data = {'English': ['55$', '23', '23', '34'], 'Math': ['5a', '88', '8t', '55'], 'Physical': ['$10', '4n', '44$', 'a5']}\n",
    "df = DataFrame(data=data, index=['ZhangSan', 'LiSi', 'WangWu', 'ZhaoLiu'])\n",
    "\n",
    "# Physical列去掉特殊符号\n",
    "df['Physical']=df['Physical'].astype('str').str.strip('$')\n",
    "print(df)\n",
    "#全部大写\n",
    "df.columns = df.columns.str.upper()\n",
    "print(df)\n",
    "#全部小写\n",
    "df.columns = df.columns.str.lower()\n",
    "print(df)\n",
    "#首字母大写\n",
    "df.columns = df.columns.str.title()\n",
    "print(df)"
   ]
  },
  {
   "cell_type": "markdown",
   "metadata": {},
   "source": [
    "想到一个不错的字符串处理办法,clean_strings的复用性更高"
   ]
  },
  {
   "cell_type": "code",
   "execution_count": 70,
   "metadata": {},
   "outputs": [],
   "source": [
    "def remove_punctuation(value):\n",
    "    return re.sub('[!#?]', '', value)\n",
    "\n",
    "clean_ops = [str.strip, remove_punctuation, str.title, str.lower,str.upper]\n",
    "\n",
    "def clean_strings(strings, ops):\n",
    "    result = []\n",
    "    for value in strings:\n",
    "        for function in ops:\n",
    "            value = function(value)\n",
    "        result.append(value)\n",
    "    return result"
   ]
  },
  {
   "cell_type": "markdown",
   "metadata": {},
   "source": [
    "###### 空值查找 - isnull"
   ]
  },
  {
   "cell_type": "code",
   "execution_count": 75,
   "metadata": {},
   "outputs": [
    {
     "data": {
      "text/plain": [
       "English     False\n",
       "Math         True\n",
       "Physical    False\n",
       "dtype: bool"
      ]
     },
     "execution_count": 75,
     "metadata": {},
     "output_type": "execute_result"
    }
   ],
   "source": [
    "import pandas as pd\n",
    "from pandas import Series, DataFrame\n",
    "\n",
    "data = {'English': ['55$', '23', '23', '34'], 'Math': ['5a', '88', '8t',None ], 'Physical': ['$10', '4n', '44$', 'a5']}\n",
    "df = DataFrame(data=data, index=['ZhangSan', 'LiSi', 'WangWu', 'ZhaoLiu'])\n",
    "\n",
    "df.isnull()\n",
    "df.isnull().any()"
   ]
  },
  {
   "cell_type": "markdown",
   "metadata": {},
   "source": [
    "自由度高的清洗函数 apply (我们可以自定义函数，达到灵活处理字符串的目的)"
   ]
  },
  {
   "cell_type": "code",
   "execution_count": 79,
   "metadata": {},
   "outputs": [
    {
     "name": "stdout",
     "output_type": "stream",
     "text": [
      "          English  Math  Physical   c1   c2\n",
      "ZhangSan       55    55        10   62   63\n",
      "LiSi           23    88        44  129  130\n",
      "WangWu         23    88        44  129  130\n",
      "ZhaoLiu        34    55        55  107  108\n"
     ]
    }
   ],
   "source": [
    "import pandas as pd\n",
    "from pandas import Series, DataFrame\n",
    "\n",
    "data = {'English': [55, 23, 23, 34], 'Math': [55, 88, 88, 55], 'Physical': [10, 44, 44, 55]}\n",
    "df = DataFrame(data=data, index=['ZhangSan', 'LiSi', 'WangWu', 'ZhaoLiu'])\n",
    "\n",
    "def plus(df,n,m): \n",
    "    df['c1'] = (df['Math']+df['Physical']) - m \n",
    "    df['c2'] = (df['Math']+df['Physical']) - n \n",
    "    return df\n",
    "\n",
    "df = df.apply(plus,axis=1,args=(2,3,))\n",
    "print (df)"
   ]
  },
  {
   "cell_type": "markdown",
   "metadata": {},
   "source": [
    "## 数据统计"
   ]
  },
  {
   "cell_type": "code",
   "execution_count": 18,
   "metadata": {},
   "outputs": [
    {
     "data": {
      "text/plain": [
       "2"
      ]
     },
     "execution_count": 18,
     "metadata": {},
     "output_type": "execute_result"
    }
   ],
   "source": [
    "import pandas as pd\n",
    "import numpy as np\n",
    "from pandas import Series, DataFrame\n",
    "\n",
    "data = {'English': [55, 23, 23, 34], 'Math': [55, 88, 88, 55], 'Physical': [10, 44, 44, 55]}\n",
    "df = DataFrame(data=data, index=['ZhangSan', 'LiSi', 'WangWu', 'ZhaoLiu'])\n",
    "\n",
    "#count()统计个数，空值NaN不计算\n",
    "df.count()\n",
    "# describe()一次性输出多个统计结果 ，包括count,mean,std,min,max等\n",
    "df.describe()\n",
    "#min()最小值\n",
    "df.min()\n",
    "#max()最大值\n",
    "df.max()\n",
    "#sum() 求总和\n",
    "df.sum()\n",
    "#mean()平均值\n",
    "df.mean()\n",
    "#median()中位数\n",
    "df.median()\n",
    "#var()方差\n",
    "df.var()\n",
    "#std()标准差\n",
    "df.std()\n",
    "#argmin() 统计最小值的索引位置\n",
    "np.argmin(df)"
   ]
  },
  {
   "attachments": {},
   "cell_type": "markdown",
   "metadata": {},
   "source": [
    "常用统计函数\n",
    "![title](../images/PandasFunc.png)"
   ]
  },
  {
   "cell_type": "markdown",
   "metadata": {},
   "source": [
    "\n",
    "\n",
    "## 数据表合并"
   ]
  },
  {
   "cell_type": "code",
   "execution_count": 23,
   "metadata": {},
   "outputs": [
    {
     "name": "stdout",
     "output_type": "stream",
     "text": [
      "       name  c1  c2\n",
      "0  ZhangSan   0   0\n",
      "1      LiSi   1   1\n",
      "       name  c1  c2\n",
      "0  ZhangSan   0   0\n",
      "1      LiSi   1   1\n",
      "       name   c1   c2\n",
      "0  ZhangSan  0.0  0.0\n",
      "1      LiSi  1.0  1.0\n",
      "2         a  2.0  NaN\n",
      "3         b  3.0  NaN\n",
      "4         c  4.0  NaN\n",
      "5         A  NaN  2.0\n",
      "6         B  NaN  3.0\n",
      "7         C  NaN  4.0\n",
      "       name  c1   c2\n",
      "0  ZhangSan   0  0.0\n",
      "1      LiSi   1  1.0\n",
      "2         a   2  NaN\n",
      "3         b   3  NaN\n",
      "4         c   4  NaN\n",
      "       name   c1  c2\n",
      "0  ZhangSan  0.0   0\n",
      "1      LiSi  1.0   1\n",
      "2         A  NaN   2\n",
      "3         B  NaN   3\n",
      "4         C  NaN   4\n"
     ]
    }
   ],
   "source": [
    "import pandas as pd\n",
    "from pandas import Series, DataFrame\n",
    "\n",
    "df1 = DataFrame({'name':['ZhangSan', 'LiSi', 'a', 'b', 'c'], 'c1':range(5)})\n",
    "df2 = DataFrame({'name':['ZhangSan', 'LiSi', 'A', 'B', 'C'], 'c2':range(5)})\n",
    "\n",
    "#指定列连接\n",
    "df3 = pd.merge(df1,df2,on='name')\n",
    "print(df3)\n",
    "\n",
    "#内连接\n",
    "df4 = pd.merge(df1,df2,how='inner')\n",
    "print(df4)\n",
    "\n",
    "#外连接\n",
    "df5 = pd.merge(df1,df2,how='outer')\n",
    "print(df5)\n",
    "\n",
    "#左连接\n",
    "df6 = pd.merge(df1,df2,how='left')\n",
    "print(df6)\n",
    "\n",
    "#右连接\n",
    "df7 = pd.merge(df1,df2,how='right')\n",
    "print(df7)"
   ]
  },
  {
   "cell_type": "markdown",
   "metadata": {},
   "source": [
    "## 用SQL方式操作Pandas"
   ]
  },
  {
   "cell_type": "markdown",
   "metadata": {},
   "source": [
    "可以使用pandasql 来使用我们熟悉的sql语句来操作pandas，sqldf是主要函数，两个参数，其一是sql语句，其二是globals() 或 locals()，表示是否使用全局变量"
   ]
  },
  {
   "cell_type": "code",
   "execution_count": 6,
   "metadata": {},
   "outputs": [
    {
     "name": "stdout",
     "output_type": "stream",
     "text": [
      "       name  c1\n",
      "0  ZhangSan   0\n"
     ]
    }
   ],
   "source": [
    "import pandas as pd\n",
    "from pandas import DataFrame\n",
    "from pandasql import sqldf, load_meat, load_births\n",
    "\n",
    "df1 = DataFrame({'name':['ZhangSan', 'LiSi', 'a', 'b', 'c'], 'c1':range(5)})\n",
    "pysqldf = lambda sql: sqldf(sql, globals()) #定义一个匿名函数\n",
    "sql = \"select * from df1 where name ='ZhangSan'\"\n",
    "print (pysqldf(sql))"
   ]
  }
 ],
 "metadata": {
  "kernelspec": {
   "display_name": "Python 3",
   "language": "python",
   "name": "python3"
  },
  "language_info": {
   "codemirror_mode": {
    "name": "ipython",
    "version": 3
   },
   "file_extension": ".py",
   "mimetype": "text/x-python",
   "name": "python",
   "nbconvert_exporter": "python",
   "pygments_lexer": "ipython3",
   "version": "3.7.7"
  }
 },
 "nbformat": 4,
 "nbformat_minor": 4
}
