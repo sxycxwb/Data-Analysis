{
 "cells": [
  {
   "cell_type": "markdown",
   "metadata": {},
   "source": [
    "## 更高效的科学计算"
   ]
  },
  {
   "cell_type": "markdown",
   "metadata": {},
   "source": [
    "1.使用Numpy而不采用list的原因在于，list元素在内存中是分散的，而Numpy中是存储在连续的内存块中，这样遍历数组元素不用像list还要对内存地址进行查找，节省了资源\n",
    "2.另外Num在计算时使用现代化CPU矢量指令进行计算，加载寄存器中多个浮点数，同时采用多线程计算 提高计算效率\n",
    "3.提高计算资源利用率，提升内存要遵循一个规则：避免采用隐式拷贝，而是就地操作 如 让一个变量加3的操作 写为 x+=3 不用 y = x+3"
   ]
  },
  {
   "cell_type": "markdown",
   "metadata": {},
   "source": [
    "## 两个重要对象 ndarray 和 ufunc "
   ]
  },
  {
   "cell_type": "code",
   "execution_count": 5,
   "metadata": {},
   "outputs": [
    {
     "name": "stdout",
     "output_type": "stream",
     "text": [
      "(3,)\n",
      "(3, 3)\n",
      "int32\n",
      "<U11\n",
      "[['2' '2' '1']\n",
      " ['3' '18' '3']\n",
      " ['4' '4' '4']]\n"
     ]
    }
   ],
   "source": [
    "import numpy as np\n",
    "\n",
    "a = np.array([7,8,9])\n",
    "b = np.array([[2,2,'1'],[3,3,3],[4,4,4]])\n",
    "b[1,1] = 18\n",
    "\n",
    "print(a.shape)\n",
    "print(b.shape)\n",
    "print(a.dtype)\n",
    "print(b.dtype)\n",
    "\n",
    "print(b)"
   ]
  },
  {
   "cell_type": "code",
   "execution_count": null,
   "metadata": {},
   "outputs": [],
   "source": []
  }
 ],
 "metadata": {
  "kernelspec": {
   "display_name": "Python 3",
   "language": "python",
   "name": "python3"
  },
  "language_info": {
   "codemirror_mode": {
    "name": "ipython",
    "version": 3
   },
   "file_extension": ".py",
   "mimetype": "text/x-python",
   "name": "python",
   "nbconvert_exporter": "python",
   "pygments_lexer": "ipython3",
   "version": "3.7.7"
  }
 },
 "nbformat": 4,
 "nbformat_minor": 4
}
